{
 "cells": [
  {
   "cell_type": "markdown",
   "metadata": {},
   "source": [
    "算法题，给前序，中序，重构二叉树:\n",
    "\n",
    "资料：\n",
    "\n",
    "https://zhuanlan.zhihu.com/p/62913781\n",
    "\n",
    "https://blog.csdn.net/lynette_bb/article/details/75224366\n"
   ]
  },
  {
   "cell_type": "markdown",
   "metadata": {},
   "source": []
  },
  {
   "cell_type": "markdown",
   "metadata": {},
   "source": [
    "### 题目描述\n",
    "\n",
    "输入某二叉树的前序遍历和中序遍历的结果，请重建出该二叉树。假设输入的前序遍历和中序遍历的结果中都不含重复的数字。\n",
    "例如输入前序遍历序列{1,2,4,7,3,5,6,8}和中序遍历序列{4,7,2,1,5,3,8,6}，则重建二叉树并返回。\n"
   ]
  },
  {
   "cell_type": "markdown",
   "metadata": {},
   "source": [
    "Analysis:\n",
    "\n",
    "在二叉树遍历中，通常来说，前提序列没有重复值\n",
    "\n",
    "给定前序、中序 或者给定中序、后序遍历都能够重建二叉树，然而给定前序、后续不能重建出二叉树。原因是在二叉树重建过程中，我们可以通过前序或者后续遍历的输出结果去判断根节点。（前序遍历第一个数为树的根节点，后序遍历中最后一个数为树的根节点。得到根节点以后，再去中序遍历中去寻找该树，此时，中序遍历该数字的左边，为其左子树，右边为其右子树。）然后递归的完成重建"
   ]
  },
  {
   "cell_type": "code",
   "execution_count": 25,
   "metadata": {},
   "outputs": [],
   "source": [
    "class TreeNode:\n",
    "    def __init__(self, x):\n",
    "        self.val = x\n",
    "        self.left = None\n",
    "        self.right = None\n",
    "        \n",
    "        \n",
    "class Solution:\n",
    "    # 返回构造的TreeNode根节点\n",
    "    def reConstructBinaryTree(self, pre, tin):\n",
    "        # write code here\n",
    "        if len(pre) == 0:\n",
    "            return None\n",
    "        if len(pre) == 1:\n",
    "            return TreeNode(pre[0])\n",
    "        else:\n",
    "            res = TreeNode(pre[0])\n",
    "            res.left = self.reConstructBinaryTree(pre[1: tin.index(pre[0]) + 1], tin[: tin.index(pre[0])])\n",
    "            res.right = self.reConstructBinaryTree(pre[tin.index(pre[0]) + 1: ], tin[tin.index(pre[0]) + 1: ])\n",
    "        return res"
   ]
  },
  {
   "cell_type": "code",
   "execution_count": 26,
   "metadata": {},
   "outputs": [],
   "source": [
    "solution = Solution()\n",
    "res = solution.reConstructBinaryTree([1,2,4,7,3,5,6,8], [4,7,2,1,5,3,8,6])"
   ]
  },
  {
   "cell_type": "code",
   "execution_count": 12,
   "metadata": {},
   "outputs": [
    {
     "data": {
      "text/plain": [
       "1"
      ]
     },
     "execution_count": 12,
     "metadata": {},
     "output_type": "execute_result"
    }
   ],
   "source": [
    "res.val"
   ]
  },
  {
   "cell_type": "code",
   "execution_count": 17,
   "metadata": {},
   "outputs": [],
   "source": [
    "def reConstructBinaryTree(preOrder, inOrder):\n",
    "    if not preOrder:\n",
    "        return None\n",
    "    elif len(preOrder) == 1:\n",
    "        return TreeNode(preOrder[0])\n",
    "    else:\n",
    "        res = TreeNode(preOrder[0])\n",
    "        res.left = reConstructBinaryTree(preOrder[1:inOrder.index(res.val)+1], inOrder[:inOrder.index(res.val)])\n",
    "        res.right = reConstructBinaryTree(preOrder[inOrder.index(res.val)+1:],inOrder[inOrder.index(res.val)+1:])\n",
    "    return res"
   ]
  },
  {
   "cell_type": "code",
   "execution_count": 29,
   "metadata": {},
   "outputs": [],
   "source": [
    "cc = reConstructBinaryTree([1,2,4,7,3,5,6,8],[4,7,2,1,5,3,8,6])"
   ]
  },
  {
   "cell_type": "code",
   "execution_count": 35,
   "metadata": {},
   "outputs": [
    {
     "name": "stdout",
     "output_type": "stream",
     "text": [
      "1\n",
      "2\n",
      "3\n",
      "4\n",
      "5\n",
      "6\n",
      "7\n",
      "8\n"
     ]
    }
   ],
   "source": [
    "# 前序遍历打印\n",
    "queue = [cc]\n",
    "while queue:\n",
    "    i = queue[0]\n",
    "    print(i.val)\n",
    "    if i.left:\n",
    "        queue.append(i.left)\n",
    "    if i.right:\n",
    "        queue.append(i.right)\n",
    "    queue.pop(0)\n",
    "    \n",
    "        "
   ]
  },
  {
   "cell_type": "code",
   "execution_count": null,
   "metadata": {},
   "outputs": [],
   "source": []
  },
  {
   "cell_type": "code",
   "execution_count": null,
   "metadata": {},
   "outputs": [],
   "source": []
  }
 ],
 "metadata": {
  "kernelspec": {
   "display_name": "Python 3",
   "language": "python",
   "name": "python3"
  },
  "language_info": {
   "codemirror_mode": {
    "name": "ipython",
    "version": 3
   },
   "file_extension": ".py",
   "mimetype": "text/x-python",
   "name": "python",
   "nbconvert_exporter": "python",
   "pygments_lexer": "ipython3",
   "version": "3.6.9"
  }
 },
 "nbformat": 4,
 "nbformat_minor": 2
}
