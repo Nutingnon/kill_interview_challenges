{
 "cells": [
  {
   "cell_type": "markdown",
   "metadata": {},
   "source": [
    "![dazi](../images/press_count.jpg)"
   ]
  },
  {
   "cell_type": "markdown",
   "metadata": {},
   "source": [
    "第一题的思路，如果当前遇到的字符和目前输出的不一样就判断下一个，如果下一个也不一样，就切换大小写，如果下一个和当前模式一样就shift一下"
   ]
  },
  {
   "cell_type": "code",
   "execution_count": 4,
   "metadata": {},
   "outputs": [
    {
     "name": "stdout",
     "output_type": "stream",
     "text": [
      "True\n",
      "True\n"
     ]
    }
   ],
   "source": [
    "# 判断是否是大小写 用 isupper() , islower()\n",
    "print('A'.isupper())\n",
    "print('a'.islower())"
   ]
  },
  {
   "cell_type": "code",
   "execution_count": 39,
   "metadata": {},
   "outputs": [
    {
     "data": {
      "text/plain": [
       "8"
      ]
     },
     "execution_count": 39,
     "metadata": {},
     "output_type": "execute_result"
    }
   ],
   "source": [
    "n = 6\n",
    "words = 'AaAAAA'\n",
    "\n",
    "def count_press(words, n):\n",
    "    uppercase = 0 # 0 is lowercase, 1 is uppercase\n",
    "    press_count = n # at least we need press keyboard n times\n",
    "    for i in range(n):\n",
    "        # if the input status currently is lowercase but meet an uppercase alphabet\n",
    "        if uppercase == 0:\n",
    "            if words[i].isupper():\n",
    "                press_count += 1\n",
    "                # if next alphabet is also uppercase, then use Capslock\n",
    "                if i < n-1 and words[i+1].isupper():\n",
    "                    # CapsLock\n",
    "                    uppercase = 1\n",
    "\n",
    "        else: #Capslock is on\n",
    "            if words[i].islower():\n",
    "                press_count += 1 # press capslock or shift\n",
    "                if i < n-1 and words[i+1].islower():\n",
    "                    uppercase = 0\n",
    "    return press_count\n",
    "                \n",
    "count_press(words, n)\n",
    "\n",
    "            \n",
    "                "
   ]
  },
  {
   "cell_type": "code",
   "execution_count": 42,
   "metadata": {},
   "outputs": [
    {
     "data": {
      "text/plain": [
       "6"
      ]
     },
     "execution_count": 42,
     "metadata": {},
     "output_type": "execute_result"
    }
   ],
   "source": [
    "count_press('aaAAA',5)"
   ]
  },
  {
   "cell_type": "markdown",
   "metadata": {},
   "source": [
    "### This question can also be solved by dynamic programing"
   ]
  },
  {
   "cell_type": "markdown",
   "metadata": {},
   "source": [
    "dp[state][i]表示当前大小写状态为state情况下，完成字符串s[i:n)输入所需的最小按键次数。定义state=0表示当前为小写状态，state=1表示当前为大写状态。\n",
    "\n",
    "边界条件：dp[0][n-1]以及dp[1][n-1]，与最后一个字符的大小写有关。\n",
    "\n",
    "状态转移：backward pass。从dp[state][i+1]到dp[state][i]的转移表示，在保持大小写状态state不变的情况下（不按CAPLOCK键），多输入一个s[i]字符所需要增加的按键次数（结合字符的大小写、当前状态考虑需不需要按shift）；类似地，从dp[state][i+1]到dp[~state][i]则表示按下CAPLOCK键，并正确输入s[i]所需增加的按键次数。\n",
    "\n",
    "要求的答案即min(dp[0][i], dp[1][i])\n",
    "\n",
    "时间空间复杂度都是O(n)，如有其他思路欢迎讨论"
   ]
  },
  {
   "cell_type": "code",
   "execution_count": 65,
   "metadata": {},
   "outputs": [],
   "source": [
    "# 作者：Nuullll\n",
    "# 链接：https://www.nowcoder.com/discuss/232706?type=1&order=0&pos=25&page=1\n",
    "# 来源：牛客网\n",
    "\n",
    "# def countPress(s):\n",
    "#     n = len(s)\n",
    "#     # dp[0] lower case\n",
    "#     # dp[1] upper case\n",
    "#     dp = [[n-i for i in range(n)] for _ in range(2)]\n",
    "#     if s[-1].isupper():\n",
    "#         dp[0][-1] += 1\n",
    "#     else:\n",
    "#         dp[1][-1] += 1\n",
    " \n",
    "#     for i in range(2, n+1):\n",
    "#         ch = s[-i]\n",
    " \n",
    "#         if ch.isupper():\n",
    "#             dp[0][-i] = min(dp[0][-i+1] + 2, dp[1][-i+1] + 2)\n",
    "#             dp[1][-i] = min(dp[0][-i+1] + 2, dp[1][-i+1] + 1)\n",
    "#         else:\n",
    "#             dp[0][-i] = min(dp[0][-i+1] + 1, dp[1][-i+1] + 2)\n",
    "#             dp[1][-i] = min(dp[0][-i+1] + 2, dp[1][-i+1] + 2)\n",
    " \n",
    "#     return dp[0][0]\n",
    "\n",
    "def countPress(s):\n",
    "    n = len(s)\n",
    "    # dp[0] assume only use shift at current stage\n",
    "    # dp[1] assume only use capslock at current stage\n",
    "    dp = [[i for i in range(1,n+1)] for _ in range(2)] # at least need i+1 times click at index i.\n",
    "    if s[0].isupper(): # assume that initialize lowercase input\n",
    "        dp[0][0] += 1\n",
    "        dp[1][0] += 1\n",
    "    for i in range(1, n):\n",
    "        ch = s[i]\n",
    "        print(ch,i)\n",
    "        print('before',dp)\n",
    "        if ch.isupper():\n",
    "            print('here')\n",
    "            dp[0][i] = min(dp[0][i-1] + 2, dp[1][i-1] + 2) #  当前是小写状态第i个字符的最小输入= min（前一个小写状态输入shift+key大写, 前一个大写状态key+capsoff\n",
    "            \n",
    "            dp[1][i] = min(dp[0][i-1] + 2, dp[1][i-1] + 1) #  当前是大写状态（前一个小写状态+2 caps+key，大写状态+1 key）\n",
    "        else:\n",
    "            dp[0][i] = min(dp[0][i-1] +1, dp[1][i-1] + 2) # 当前小写，dp0按一下，dp1按两下capssoff+key\n",
    "            dp[1][i] = min(dp[0][i-1] +2, dp[1][i-1] + 2) # 当前大写=min(dp1按两下Capsoff+key，dp0 - key+capson)\n",
    "        print('after',dp,'\\n\\n')\n",
    "    return min(dp[0][i], dp[1][i])"
   ]
  },
  {
   "cell_type": "code",
   "execution_count": 66,
   "metadata": {},
   "outputs": [
    {
     "name": "stdout",
     "output_type": "stream",
     "text": [
      "A 1\n",
      "before [[2, 2], [2, 2]]\n",
      "here\n",
      "after [[2, 4], [2, 3]] \n",
      "\n",
      "\n"
     ]
    },
    {
     "data": {
      "text/plain": [
       "3"
      ]
     },
     "execution_count": 66,
     "metadata": {},
     "output_type": "execute_result"
    }
   ],
   "source": [
    "countPress('AA')"
   ]
  },
  {
   "cell_type": "code",
   "execution_count": null,
   "metadata": {},
   "outputs": [],
   "source": []
  }
 ],
 "metadata": {
  "kernelspec": {
   "display_name": "Python 3",
   "language": "python",
   "name": "python3"
  },
  "language_info": {
   "codemirror_mode": {
    "name": "ipython",
    "version": 3
   },
   "file_extension": ".py",
   "mimetype": "text/x-python",
   "name": "python",
   "nbconvert_exporter": "python",
   "pygments_lexer": "ipython3",
   "version": "3.6.9"
  }
 },
 "nbformat": 4,
 "nbformat_minor": 2
}
