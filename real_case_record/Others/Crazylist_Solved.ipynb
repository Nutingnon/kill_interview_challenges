{
 "cells": [
  {
   "cell_type": "markdown",
   "metadata": {},
   "source": [
    "题目描述：\n",
    "小易老师是非常严厉的,它会要求所有学生在进入教室前都排成一列,并且他要求学生按照身高不递减的顺序排列。有一次,n个学生在列队的时候,小易老师正好去卫生间了。学生们终于有机会反击了,于是学生们决定来一次疯狂的队列,他们定义一个队列的疯狂值为每对相邻排列学生身高差的绝对值总和。由于按照身高顺序排列的队列的疯狂值是最小的,他们当然决定按照疯狂值最大的顺序来进行列队。现在给出n个学生的身高,请计算出这些学生列队的最大可能的疯狂值。小易老师回来一定会气得半死。\n",
    "\n",
    "输入描述:\n",
    "\n",
    "输入包括两行,第一行一个整数n(1 ≤ n ≤ 50),表示学生的人数\n",
    "第二行为n个整数h[i](1 ≤ h[i] ≤ 1000),表示每个学生的身高\n",
    "\n",
    "输出描述:\n",
    "\n",
    "输出一个整数,表示n个学生列队可以获得的最大的疯狂值。\n",
    "\n",
    "如样例所示:\n",
    "\n",
    "当队列排列顺序是: 25-10-40-5-25, 身高差绝对值的总和为15+30+35+20=100。这是最大的疯狂值了。\n",
    "\n",
    "示例1\n",
    "\n",
    "输入\n",
    "\n",
    "5\n",
    "\n",
    "5 10 25 40 25\n",
    "\n",
    "输出\n",
    "\n",
    "100\n",
    "\n",
    "\n",
    "解题分析：\n",
    "1、首先，将数组按从小到大排好序（从大到小也行）。\n",
    "\n",
    "2、找到最大和最小的两个值，存一个数组中，然后为这两个值寻找使得他们疯狂值最大的数，分别连到他们两边。\n",
    "\n",
    "3、接着思路类似，每次都为这个更新的数组的头和尾寻找使得他们疯狂值最大的数。\n",
    "\n",
    "4、所以要考虑四种情况，头考虑是连最左边的数还是最右边的数（因为连到数组时左右在换，有时候大的在左，有时候小的在左），尾也考虑是连最左边的数还是最右边的数。\n",
    "\n",
    "5、看上面给的示例[5,10,25,40,25] \n",
    "例如[40,5]->[10,40,5,25]->[25,10,40,5,25]\n",
    " ———————————————— \n",
    "版权声明：本文为CSDN博主「二当家的掌柜」的原创文章，遵循CC 4.0 by-sa版权协议，转载请附上原文出处链接及本声明。\n",
    "原文链接：https://blog.csdn.net/github_39261590/article/details/77715457"
   ]
  },
  {
   "cell_type": "code",
   "execution_count": 10,
   "metadata": {},
   "outputs": [
    {
     "data": {
      "text/plain": [
       "(100, [25, 5, 40, 10, 25])"
      ]
     },
     "execution_count": 10,
     "metadata": {},
     "output_type": "execute_result"
    }
   ],
   "source": [
    "#\n",
    "n = 5\n",
    "q = [25, 10, 40,5, 25]\n",
    "\n",
    "q = sorted(q)\n",
    "\n",
    "def crazy_list(q):\n",
    "    n = len(q)\n",
    "    temp = [q[0], q[-1]]\n",
    "    crazy_value = q[-1]-q[0] \n",
    "    left = 1\n",
    "    right = n-2\n",
    "    while left <= right:\n",
    "        cv1 = abs(temp[0] - q[right])\n",
    "        cv2 = abs(temp[0] - q[left])\n",
    "        cv3 = abs(temp[-1] - q[right])\n",
    "        cv4 = abs(temp[-1] - q[left])\n",
    "        waiting_list = [cv1, cv2, cv3, cv4]\n",
    "        chosen_num = max(waiting_list)\n",
    "        crazy_value += chosen_num\n",
    "        if waiting_list.index(chosen_num) == 0:\n",
    "            temp.insert(0, q[right])\n",
    "            right -= 1\n",
    "        elif waiting_list.index(chosen_num) == 1:\n",
    "            temp.insert(0, q[left])\n",
    "            left += 1\n",
    "        elif waiting_list.index(chosen_num) == 2:\n",
    "            temp.append(q[right])\n",
    "            right -= 1\n",
    "        else:\n",
    "            temp.append(q[left])\n",
    "            left += 1\n",
    "    return crazy_value, temp\n",
    "\n",
    "crazy_list(q)"
   ]
  },
  {
   "cell_type": "code",
   "execution_count": null,
   "metadata": {},
   "outputs": [],
   "source": []
  },
  {
   "cell_type": "code",
   "execution_count": null,
   "metadata": {},
   "outputs": [],
   "source": []
  }
 ],
 "metadata": {
  "kernelspec": {
   "display_name": "Python 3",
   "language": "python",
   "name": "python3"
  },
  "language_info": {
   "codemirror_mode": {
    "name": "ipython",
    "version": 3
   },
   "file_extension": ".py",
   "mimetype": "text/x-python",
   "name": "python",
   "nbconvert_exporter": "python",
   "pygments_lexer": "ipython3",
   "version": "3.6.9"
  }
 },
 "nbformat": 4,
 "nbformat_minor": 2
}
