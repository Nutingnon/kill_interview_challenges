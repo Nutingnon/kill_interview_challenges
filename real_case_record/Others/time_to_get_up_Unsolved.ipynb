{
 "cells": [
  {
   "cell_type": "markdown",
   "metadata": {},
   "source": [
    "https://www.nowcoder.com/questionTerminal/88142d2d31af494d9a1d565ede845356\n",
    "\n",
    "牛牛总是睡过头，所以他定了很多闹钟，只有在闹钟响的时候他才会醒过来并且决定起不起床。从他起床算起他需要X分钟到达教室，上课时间为当天的A时B分，请问他最晚可以什么时间起床\n",
    "\n",
    "链接：https://www.nowcoder.com/questionTerminal/88142d2d31af494d9a1d565ede845356\n",
    "来源：牛客网\n",
    "\n",
    "每个输入包含一个测试用例。\n",
    "每个测试用例的第一行包含一个正整数，表示闹钟的数量N(N<=100)。\n",
    "接下来的N行每行包含两个整数，表示这个闹钟响起的时间为Hi(0<=A<24)时Mi(0<=B<60)分。\n",
    "接下来的一行包含一个整数，表示从起床算起他需要X(0<=X<=100)分钟到达教室。\n",
    "接下来的一行包含两个整数，表示上课时间为A(0<=A<24)时B(0<=B<60)分。\n",
    "数据保证至少有一个闹钟可以让牛牛及时到达教室。\n",
    "\n",
    "输出两个整数表示牛牛最晚起床时间。\n",
    "\n",
    "示例1\n",
    "输入\n",
    "\n",
    "3\n",
    "\n",
    "5 0 \n",
    "\n",
    "6 0 \n",
    "\n",
    "7 0 \n",
    "\n",
    "59 \n",
    "\n",
    "6 59\n",
    "\n",
    "输出\n",
    "\n",
    "6 0"
   ]
  },
  {
   "cell_type": "markdown",
   "metadata": {},
   "source": [
    "### Answer\n",
    "\n",
    "https://www.nowcoder.com/discuss/70736?type=all&order=time&pos=&page=2"
   ]
  }
 ],
 "metadata": {
  "kernelspec": {
   "display_name": "Python 3",
   "language": "python",
   "name": "python3"
  },
  "language_info": {
   "codemirror_mode": {
    "name": "ipython",
    "version": 3
   },
   "file_extension": ".py",
   "mimetype": "text/x-python",
   "name": "python",
   "nbconvert_exporter": "python",
   "pygments_lexer": "ipython3",
   "version": "3.6.9"
  }
 },
 "nbformat": 4,
 "nbformat_minor": 2
}
