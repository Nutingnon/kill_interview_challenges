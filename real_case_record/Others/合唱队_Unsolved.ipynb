{
 "cells": [
  {
   "cell_type": "markdown",
   "metadata": {},
   "source": [
    "作者：大厂offer砸过来\n",
    "链接：https://www.nowcoder.com/discuss/232776?type=all&order=time&pos=&page=1\n",
    "来源：牛客网\n",
    "\n",
    "/**\n",
    " * 合唱队的N名学生站成一排且从左到右编号为1到N，其中编号为i的学生身高为Hi。 现在将这些学生分成若干组（同一组的学生编号连续），\n",
    " * 并让每组学生从左到右按身高从低到高进行排列，使得最后所有学生同样满足从左到右身高 从低到高（中间位置可以等高），那么最多能将这些学生分成多少组？\n",
    " * 合唱队的N名学生站成一排且从左到右编号为1到N，其中编号为i的学生身高为Hi。 现在将这些学生分成若干组（同一组的学生编号连续），\n",
    " * 并让每组学生从左到右按身高从低到高进行排列，使得最后所有学生同样满足从左到右身高从低 到高（中间位置可以等高），那么最多能将这些学生分成多少组？\n",
    " * 第一行包含一个整数N，1≤N≤10^5。\n",
    " * \n",
    " * 第二行包含N个空格隔开的整数H1到HN，1≤Hi≤10^9。 4 2 1 3 2\n",
    " * \n",
    " * @author gary\n",
    " *\n",
    " */"
   ]
  },
  {
   "cell_type": "markdown",
   "metadata": {},
   "source": [
    "-----------------\n",
    "-----------------\n",
    "---------\n",
    "\n",
    "\n",
    "作者：Nuullll\n",
    "链接：https://www.nowcoder.com/discuss/232706\n",
    "来源：牛客网\n",
    "\n",
    "2. 合唱队分组，排序，贪心分组，O(nlogn)\n",
    "\n",
    "from collections import defaultdict\n",
    " \n",
    "def divideGroups(heights):\n",
    "    sorted_h = sorted(heights)\n",
    " \n",
    "    count = 0\n",
    "    m = defaultdict(lambda:0)\n",
    " \n",
    "    for h, t in zip(heights, sorted_h):\n",
    "        m[h] += 1\n",
    "        m[t] -= 1\n",
    " \n",
    "        if m[h] == 0:\n",
    "            del m[h]\n",
    "        if m[t] == 0:\n",
    "            del m[t]\n",
    " \n",
    "        if len(m) == 0:\n",
    "            count += 1\n",
    " \n",
    "    return count\n",
    "\n",
    "感觉这题比较trick，观察后可以发现，要满足条件，那么每个分组的队员只需要组内交换，就可以到达各自在全组有序序列中的位置。题目给的n范围不大 105，因此可以考虑对比排序后与初始情况的差别。\n",
    "初始数组排序，O(nlogn)\n",
    "每个人都需要分组，简单起见可以直接从前向后考虑，每次贪心地划分规模最小的分组。\n",
    "举个例子，初始 [2,1,3,2]，最终顺序应该是 [1,2,2,3]。我们可以同时在两个数组加一个滑动的窗口考虑，当窗口覆盖到的两数组元素种类、数量相同时，可以划为一个分组。比如各自的前两个元素：[2,1]和[1,2]，只需要组内交换，一定能达到最终应有的顺序。\n",
    "确定可以划分为一个分组时，清空窗口继续向后寻找；否则窗口左端点不动，右端向后移动即可。\n",
    "技术上来说，可以维护一个map，表示窗口下两个数组元素各种类数量差。如果所有种类数量差均为0，则表示完全相同。这样维护map的时间开销是O(1)。\n",
    "时间复杂度主要是排序步骤的O(nlogn)，空间复杂度是O(n)，如有其他思路欢迎讨论👏"
   ]
  },
  {
   "cell_type": "code",
   "execution_count": null,
   "metadata": {},
   "outputs": [],
   "source": []
  }
 ],
 "metadata": {
  "kernelspec": {
   "display_name": "Python 3",
   "language": "python",
   "name": "python3"
  },
  "language_info": {
   "codemirror_mode": {
    "name": "ipython",
    "version": 3
   },
   "file_extension": ".py",
   "mimetype": "text/x-python",
   "name": "python",
   "nbconvert_exporter": "python",
   "pygments_lexer": "ipython3",
   "version": "3.6.9"
  }
 },
 "nbformat": 4,
 "nbformat_minor": 2
}
