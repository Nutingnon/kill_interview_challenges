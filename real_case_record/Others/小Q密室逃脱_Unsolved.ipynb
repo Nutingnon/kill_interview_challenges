{
 "cells": [
  {
   "cell_type": "markdown",
   "metadata": {},
   "source": [
    "### 题目描述\n",
    "\n",
    "小Q在假期的时候去一个密室探险，这个密室可以看作一个nx3的 格子，小Q最开始可以选择第一行的任意一个格子进入，此后的每一步，他可以选择下一行的当前位置或左侧一个或右侧一个，简单地说，假设小Q当前的坐标为(x,y), 那么它下一步可以前进至(x+1, y-1)或(x+1,y)或(x+1, y+1)。但他不能走出格子。每个格子都有一个数字，代表走到该格子可以得到的分数，但密室中有一些魔法格子，他们的数字为0，当小Q经过魔法格子后，他在之后的分数都会取相反数，分数可多次反转，请问小Q在探险至密室最后一行后，能得到多少分？\n",
    "\n",
    "------\n",
    "输入描述:\n",
    ">输入第一行将包含一个数字，n，代表密室的行数。之后的n行每行将包含3个数字w，代表密室每一行的三个数字。\n",
    "\n",
    ">1<=n<=100000;\n",
    "-100000<=w<=100000;\n",
    "\n",
    "输出描述:\n",
    ">输出一个数字，代表小Q可以获得的最高分数\n",
    "\n",
    "示例1：\n",
    "\n",
    "输入\n",
    "\n",
    ">6\n",
    "\n",
    ">1 2 3\n",
    "\n",
    ">8 9 10\n",
    "\n",
    ">5 0 5\n",
    "\n",
    ">-9 -8 -10\n",
    "\n",
    ">0 1 2\n",
    "\n",
    ">5 4 6\n",
    "\n",
    "输出：\n",
    ">27"
   ]
  },
  {
   "cell_type": "code",
   "execution_count": null,
   "metadata": {},
   "outputs": [],
   "source": []
  }
 ],
 "metadata": {
  "kernelspec": {
   "display_name": "Python 3",
   "language": "python",
   "name": "python3"
  },
  "language_info": {
   "codemirror_mode": {
    "name": "ipython",
    "version": 3
   },
   "file_extension": ".py",
   "mimetype": "text/x-python",
   "name": "python",
   "nbconvert_exporter": "python",
   "pygments_lexer": "ipython3",
   "version": "3.6.9"
  }
 },
 "nbformat": 4,
 "nbformat_minor": 2
}
