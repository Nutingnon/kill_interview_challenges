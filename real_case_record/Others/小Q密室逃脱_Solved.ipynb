{
 "cells": [
  {
   "cell_type": "markdown",
   "metadata": {},
   "source": [
    "### 题目描述\n",
    "\n",
    "小Q在假期的时候去一个密室探险，这个密室可以看作一个nx3的 格子，小Q最开始可以选择第一行的任意一个格子进入，此后的每一步，他可以选择下一行的当前位置或左侧一个或右侧一个，简单地说，假设小Q当前的坐标为(x,y), 那么它下一步可以前进至(x+1, y-1)或(x+1,y)或(x+1, y+1)。但他不能走出格子。每个格子都有一个数字，代表走到该格子可以得到的分数，但密室中有一些魔法格子，他们的数字为0，当小Q经过魔法格子后，他在之后的分数都会取相反数，分数可多次反转，请问小Q在探险至密室最后一行后，能得到多少分？\n",
    "\n",
    "------\n",
    "输入描述:\n",
    ">输入第一行将包含一个数字，n，代表密室的行数。之后的n行每行将包含3个数字w，代表密室每一行的三个数字。\n",
    "\n",
    ">1<=n<=100000;\n",
    "-100000<=w<=100000;\n",
    "\n",
    "输出描述:\n",
    ">输出一个数字，代表小Q可以获得的最高分数\n",
    "\n",
    "示例1：\n",
    "\n",
    "输入\n",
    "\n",
    ">6\n",
    "\n",
    ">1 2 3\n",
    "\n",
    ">8 9 10\n",
    "\n",
    ">5 0 5\n",
    "\n",
    ">-9 -8 -10\n",
    "\n",
    ">0 1 2\n",
    "\n",
    ">5 4 6\n",
    "\n",
    "输出：\n",
    ">27"
   ]
  },
  {
   "cell_type": "markdown",
   "metadata": {},
   "source": [
    "anser is from https://blog.csdn.net/qq_32895961/article/details/99971948"
   ]
  },
  {
   "cell_type": "markdown",
   "metadata": {},
   "source": [
    "递归思路，运用一个flag去表示当前的正负性，若为正，则寻求max，若为负，则寻求min。每一行有 (x,y-1), (x,y), (x,y+1). 则中间过程为：\n",
    "\n",
    "num += flag\\*arr\\[x\\]\\[y\\]\n",
    "\n",
    "如果为flag为正，则向下寻求最大，若为负，向下寻求最小。\n",
    "\n",
    "number每次初始化为0，实际为当前array\\[x\\]\\[y\\]乘上flag\n",
    "\n",
    "关键点：不用认为的去传目前的最大值num，只要return num就行了\n"
   ]
  },
  {
   "cell_type": "code",
   "execution_count": 8,
   "metadata": {},
   "outputs": [
    {
     "name": "stdout",
     "output_type": "stream",
     "text": [
      "27\n"
     ]
    }
   ],
   "source": [
    "import sys\n",
    "from io import StringIO # to use standard i/o operation. https://blog.csdn.net/cxrsdn/article/details/99250785\n",
    "doc = \"\"\"6\n",
    "1 2 3\n",
    "8 9 10\n",
    "5 0 5\n",
    "-9 -8 -10\n",
    "0 1 2\n",
    "5 4 6\"\"\"\n",
    "sys.stdin = StringIO(doc)\n",
    "\n",
    "\n",
    "def solution(arr, x, y, flag):\n",
    "    num = 0\n",
    "    if y < 0 or y > 2 or x >= len(arr):\n",
    "        return 0\n",
    "    if arr[x][y] == 0:\n",
    "        flag = - flag\n",
    "    else:\n",
    "        num += flag * arr[x][y]\n",
    "    if flag:\n",
    "        num += max(solution(arr, x + 1, y - 1, flag), solution(arr, x + 1, y, flag), solution(arr, x + 1, y + 1, flag))\n",
    "    else:\n",
    "        num += min(solution(arr, x + 1, y - 1, flag), solution(arr, x + 1, y, flag), solution(arr, x + 1, y + 1, flag))\n",
    "    return num\n",
    "\n",
    "\n",
    "loop = int(sys.stdin.readline().strip())\n",
    "arr = []\n",
    "for i in range(loop):    \n",
    "    n = [int(x) for x in sys.stdin.readline().strip().split()]\n",
    "    arr.append(n)\n",
    "flag = 1\n",
    "num = max(solution(arr, 0, 0, flag), solution(arr, 0, 1, flag), solution(arr, 0, 2, flag))\n",
    "print(num)\n",
    "\n"
   ]
  },
  {
   "cell_type": "markdown",
   "metadata": {},
   "source": [
    "### 汉诺塔"
   ]
  },
  {
   "cell_type": "markdown",
   "metadata": {},
   "source": [
    "https://blog.csdn.net/hikobe8/article/details/50479669\n",
    "\n",
    "https://www.bilibili.com/video/av9830115?from=search&seid=10145473887130125563"
   ]
  },
  {
   "cell_type": "code",
   "execution_count": 9,
   "metadata": {},
   "outputs": [
    {
     "name": "stdout",
     "output_type": "stream",
     "text": [
      "a -> c\n",
      "a -> b\n",
      "c -> b\n",
      "a -> c\n",
      "b -> a\n",
      "b -> c\n",
      "a -> c\n"
     ]
    }
   ],
   "source": [
    "def move(n, a, buffer, c):\n",
    "    # 汉诺塔最终会有一个情况，就是所有盘子都在ｃ上按要求放好除了最小的一个盘子，那接下去就是把最小的盘子从ｂ移到ｃ上。\n",
    "    if(n == 1): # 如果只有一个盘子，那么直接拿到c去\n",
    "        print(a,\"->\",c)\n",
    "    move(n-1, a, c, buffer) # 将ｎ个盘子从a借助b移到c上等于先将n-1个盘子从a借助c移到b上后， a上还剩最后一个最大的底盘\n",
    "    move(1, a, buffer, c) # 将该底盘借助b放入c上\n",
    "    move(n-1, buffer, a, c) # 再将剩余的盘子从b借助a移到c上\n",
    "move(3, \"a\", \"b\", \"c\")"
   ]
  },
  {
   "cell_type": "code",
   "execution_count": null,
   "metadata": {},
   "outputs": [],
   "source": []
  }
 ],
 "metadata": {
  "kernelspec": {
   "display_name": "Python 3",
   "language": "python",
   "name": "python3"
  },
  "language_info": {
   "codemirror_mode": {
    "name": "ipython",
    "version": 3
   },
   "file_extension": ".py",
   "mimetype": "text/x-python",
   "name": "python",
   "nbconvert_exporter": "python",
   "pygments_lexer": "ipython3",
   "version": "3.6.9"
  }
 },
 "nbformat": 4,
 "nbformat_minor": 2
}
