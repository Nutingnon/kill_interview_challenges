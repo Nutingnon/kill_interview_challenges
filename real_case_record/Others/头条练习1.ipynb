{
 "cells": [
  {
   "cell_type": "code",
   "execution_count": 21,
   "metadata": {},
   "outputs": [],
   "source": [
    "import numpy as np\n",
    "import re\n",
    "import random\n"
   ]
  },
  {
   "cell_type": "code",
   "execution_count": null,
   "metadata": {},
   "outputs": [],
   "source": [
    "def to_matrix(m,n):\n",
    "    matrix = np.zeros((m,n))\n",
    "    return matrix"
   ]
  },
  {
   "cell_type": "code",
   "execution_count": 12,
   "metadata": {},
   "outputs": [],
   "source": [
    "def fill_matrix(a):\n",
    "    for i in range(a.shape[0]):\n",
    "        for j in range(a.shape[1]):\n",
    "            a[i][j] = int(input(),16)\n",
    "    return a"
   ]
  },
  {
   "cell_type": "code",
   "execution_count": 84,
   "metadata": {},
   "outputs": [],
   "source": [
    "# 遍历\n",
    "def walk(a):\n",
    "    start = [0,0]\n",
    "    end = list(a.shape)\n",
    "    length = a.shape[0]+a.shape[1]-2\n",
    "    record = [[],[]]\n",
    "    for i in range(30):\n",
    "        sub_record = [[],[]]\n",
    "        start = [0,0]\n",
    "        for j in range(length):\n",
    "            direction = random.randint(0,1) \n",
    "            # 1 为向下， 0 为向右\n",
    "            if (direction == 1 and start[0]+1 <a.shape[0]) or (start[1]+1 >= a.shape[1]):\n",
    "                start[0] = start[0] + 1\n",
    "                sub_record[0].append(a[start[0],start[1]])\n",
    "                sub_record[1].append(1)\n",
    "            elif direction == 0 or start[0]+1 >= a.shape[0]:\n",
    "                start[1] = start[1] + 1\n",
    "                sub_record[0].append(a[start[0],start[1]])\n",
    "                sub_record[1].append(0)                  \n",
    "        r = 1\n",
    "        print(sub_record)\n",
    "        for k in sub_record[0]:\n",
    "            r *=k\n",
    "                \n",
    "        r = str(r)\n",
    "        number_of_zero = len(re.findall(r'(0*?)\\.0',r)[0])\n",
    "        if len(record[0]) == 0:\n",
    "            record[0].append(number_of_zero)\n",
    "            record[1].append(sub_record[1])\n",
    "        else:\n",
    "            if number_of_zero > min(record[0]) or sub_record[1] in record[1]:\n",
    "                continue\n",
    "            else:\n",
    "                record[0] = []\n",
    "                record[0].append(number_of_zero)\n",
    "                record[1].append(sub_record[1])\n",
    "            # 判断几个零\n",
    "            \n",
    "            \n",
    "        \n",
    "        \n",
    "    return record"
   ]
  },
  {
   "cell_type": "code",
   "execution_count": 85,
   "metadata": {},
   "outputs": [],
   "source": [
    "def mian():\n",
    "    m = int(input())\n",
    "    n = int(input())\n",
    "    matrix_a = to_matrix(m,n)\n",
    "    matrix_a = fill_matrix(matrix_a)\n",
    "    print(matrix_a)\n",
    "    record = walk(matrix_a)\n",
    "    print(record)"
   ]
  },
  {
   "cell_type": "code",
   "execution_count": 87,
   "metadata": {},
   "outputs": [
    {
     "name": "stdout",
     "output_type": "stream",
     "text": [
      "3\n",
      "3\n",
      "1\n",
      "2\n",
      "3\n",
      "a\n",
      "b\n",
      "c\n",
      "5\n",
      "6\n",
      "7\n",
      "[[ 1.  2.  3.]\n",
      " [10. 11. 12.]\n",
      " [ 5.  6.  7.]]\n",
      "[[10.0, 5.0, 6.0, 7.0], [1, 1, 0, 0]]\n",
      "[[10.0, 11.0, 6.0, 7.0], [1, 0, 1, 0]]\n",
      "[[2.0, 11.0, 12.0, 7.0], [0, 1, 0, 1]]\n",
      "[[2.0, 11.0, 12.0, 7.0], [0, 1, 0, 1]]\n",
      "[[2.0, 3.0, 12.0, 7.0], [0, 0, 1, 1]]\n",
      "[[10.0, 11.0, 6.0, 7.0], [1, 0, 1, 0]]\n",
      "[[10.0, 5.0, 6.0, 7.0], [1, 1, 0, 0]]\n",
      "[[2.0, 3.0, 12.0, 7.0], [0, 0, 1, 1]]\n",
      "[[2.0, 3.0, 12.0, 7.0], [0, 0, 1, 1]]\n",
      "[[10.0, 11.0, 6.0, 7.0], [1, 0, 1, 0]]\n",
      "[[2.0, 11.0, 12.0, 7.0], [0, 1, 0, 1]]\n",
      "[[10.0, 5.0, 6.0, 7.0], [1, 1, 0, 0]]\n",
      "[[10.0, 11.0, 6.0, 7.0], [1, 0, 1, 0]]\n",
      "[[2.0, 11.0, 12.0, 7.0], [0, 1, 0, 1]]\n",
      "[[2.0, 11.0, 6.0, 7.0], [0, 1, 1, 0]]\n",
      "[[10.0, 11.0, 6.0, 7.0], [1, 0, 1, 0]]\n",
      "[[10.0, 5.0, 6.0, 7.0], [1, 1, 0, 0]]\n",
      "[[10.0, 11.0, 6.0, 7.0], [1, 0, 1, 0]]\n",
      "[[10.0, 5.0, 6.0, 7.0], [1, 1, 0, 0]]\n",
      "[[10.0, 5.0, 6.0, 7.0], [1, 1, 0, 0]]\n",
      "[[10.0, 11.0, 12.0, 7.0], [1, 0, 0, 1]]\n",
      "[[10.0, 11.0, 12.0, 7.0], [1, 0, 0, 1]]\n",
      "[[10.0, 5.0, 6.0, 7.0], [1, 1, 0, 0]]\n",
      "[[2.0, 11.0, 12.0, 7.0], [0, 1, 0, 1]]\n",
      "[[10.0, 11.0, 12.0, 7.0], [1, 0, 0, 1]]\n",
      "[[10.0, 5.0, 6.0, 7.0], [1, 1, 0, 0]]\n",
      "[[10.0, 11.0, 6.0, 7.0], [1, 0, 1, 0]]\n",
      "[[10.0, 11.0, 6.0, 7.0], [1, 0, 1, 0]]\n",
      "[[10.0, 11.0, 6.0, 7.0], [1, 0, 1, 0]]\n",
      "[[2.0, 3.0, 12.0, 7.0], [0, 0, 1, 1]]\n",
      "[[0], [[1, 1, 0, 0], [1, 0, 1, 0], [0, 1, 0, 1], [0, 0, 1, 1], [0, 1, 1, 0]]]\n"
     ]
    }
   ],
   "source": [
    "mian()"
   ]
  },
  {
   "cell_type": "code",
   "execution_count": 64,
   "metadata": {},
   "outputs": [
    {
     "data": {
      "text/plain": [
       "'432.0'"
      ]
     },
     "execution_count": 64,
     "metadata": {},
     "output_type": "execute_result"
    }
   ],
   "source": [
    "str(2.0*3.0*12.0*6.0)\n"
   ]
  },
  {
   "cell_type": "code",
   "execution_count": null,
   "metadata": {},
   "outputs": [],
   "source": []
  },
  {
   "cell_type": "code",
   "execution_count": 68,
   "metadata": {},
   "outputs": [],
   "source": [
    "q = [[0, 0, 1, 1], [0, 0, 1, 1], [0, 1, 0, 1], [0, 0, 1, 1], [0, 0, 1, 1], [0, 0, 1, 1], [0, 1, 0, 1], [0, 0, 1, 1], [0, 0, 1, 1], [0, 0, 1, 1], [0, 0, 1, 1], [0, 0, 1, 1], [0, 0, 1, 1]]"
   ]
  },
  {
   "cell_type": "code",
   "execution_count": 69,
   "metadata": {},
   "outputs": [
    {
     "ename": "TypeError",
     "evalue": "unhashable type: 'list'",
     "output_type": "error",
     "traceback": [
      "\u001b[1;31m---------------------------------------------------------------------------\u001b[0m",
      "\u001b[1;31mTypeError\u001b[0m                                 Traceback (most recent call last)",
      "\u001b[1;32m<ipython-input-69-ae822df04525>\u001b[0m in \u001b[0;36m<module>\u001b[1;34m()\u001b[0m\n\u001b[1;32m----> 1\u001b[1;33m \u001b[0mset\u001b[0m\u001b[1;33m(\u001b[0m\u001b[0mq\u001b[0m\u001b[1;33m)\u001b[0m\u001b[1;33m\u001b[0m\u001b[0m\n\u001b[0m",
      "\u001b[1;31mTypeError\u001b[0m: unhashable type: 'list'"
     ]
    }
   ],
   "source": []
  },
  {
   "cell_type": "code",
   "execution_count": null,
   "metadata": {},
   "outputs": [],
   "source": []
  }
 ],
 "metadata": {
  "kernelspec": {
   "display_name": "Python 3",
   "language": "python",
   "name": "python3"
  },
  "language_info": {
   "codemirror_mode": {
    "name": "ipython",
    "version": 3
   },
   "file_extension": ".py",
   "mimetype": "text/x-python",
   "name": "python",
   "nbconvert_exporter": "python",
   "pygments_lexer": "ipython3",
   "version": "3.6.5"
  }
 },
 "nbformat": 4,
 "nbformat_minor": 2
}
