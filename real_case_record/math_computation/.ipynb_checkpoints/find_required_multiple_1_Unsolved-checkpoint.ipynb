{
 "cells": [
  {
   "cell_type": "markdown",
   "metadata": {},
   "source": [
    "作者：herongwei\n",
    "链接：https://www.nowcoder.com/discuss/110802\n",
    "来源：牛客网\n",
    "\n",
    "给出三个数字ABC，你可以选择若干个数字，但是这些数字必须是A的倍数，并且至少得选择一个数字。\n",
    "\n",
    "问是否存在一种选择方案使得这些数字的和对B取余的结果为C，存在输出YES否则输出NO\n",
    "\n",
    "输入描述\n",
    "\n",
    "输入包括t(1<=t<=20),ABC(1<=ABC<100)\n",
    "\n",
    "输出描述\n",
    "\n",
    "输出YES或NO\n",
    "\n",
    "示例1\n",
    "\n",
    "sample input\n",
    "\n",
    "3\n",
    "91 16 5\n",
    "58 16 0\n",
    "96 12 4\n",
    "\n",
    "sample output\n",
    "\n",
    "YES\n",
    "YES\n",
    "NO\n",
    "\n",
    "暴力一发，枚举A的倍数，测测RP，据说可以过（后台数据水吧~），目前没有想到更好的方法。"
   ]
  }
 ],
 "metadata": {
  "kernelspec": {
   "display_name": "Python 3",
   "language": "python",
   "name": "python3"
  },
  "language_info": {
   "codemirror_mode": {
    "name": "ipython",
    "version": 3
   },
   "file_extension": ".py",
   "mimetype": "text/x-python",
   "name": "python",
   "nbconvert_exporter": "python",
   "pygments_lexer": "ipython3",
   "version": "3.6.9"
  }
 },
 "nbformat": 4,
 "nbformat_minor": 2
}
