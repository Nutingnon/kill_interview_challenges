{
 "cells": [
  {
   "cell_type": "markdown",
   "metadata": {},
   "source": [
    "### 腾讯2019校招\n",
    "\n",
    "作者：herongwei\n",
    "链接：https://www.nowcoder.com/discuss/110802\n",
    "来源：牛客网\n",
    "\n",
    "题目描述\n",
    "\n",
    "小Q在学校学习了最小公倍数的求法：\n",
    "\n",
    "LCM（2）=2，LCM（4,6）=12，LCM（1,2,3,4,5,6）=60\n",
    "\n",
    "现在给出一个正整数n，求计算出最小的大于n的正整数m，使得满足：LCM(n+1,n+2,...,m)=LCM(1,2,...,m)\n",
    "\n",
    "例如：n=3，那么m=6,因为LCM（4,5,6）=LCM（1,2,3,4,5,6）=60并且这个m是最小的大于n的正整数。\n",
    "\n",
    "输入描述\n",
    "\n",
    "输入包括一个正整数n（1<=n<=1e6）\n",
    "\n",
    "输出描述\n",
    "\n",
    "输出m\n",
    "\n",
    "示例1\n",
    "\n",
    "sample input\n",
    "\n",
    "3\n",
    "\n",
    "sample output\n",
    "\n",
    "6"
   ]
  },
  {
   "cell_type": "markdown",
   "metadata": {},
   "source": [
    "### 基本知识/拓展知识：最小共倍数，最大公约数\n",
    "\n",
    "最大公约数和最小公倍数的求解可以归结为求最大公约数，最小公倍数为两数乘积除以最大公倍数\n",
    "\n",
    "### 1. python built-in method -- math.gcd(a,b) 求 a,b 的最大公约数 GCD"
   ]
  },
  {
   "cell_type": "code",
   "execution_count": 4,
   "metadata": {},
   "outputs": [
    {
     "name": "stdout",
     "output_type": "stream",
     "text": [
      "5\n",
      "30\n"
     ]
    }
   ],
   "source": [
    "import math\n",
    "print(math.gcd(15,10))\n",
    "\n",
    "# 最小公倍数 LCM\n",
    "def lcm(a,b):\n",
    "    return a*b//math.gcd(a,b)\n",
    "\n",
    "print(lcm(15,10))"
   ]
  },
  {
   "cell_type": "markdown",
   "metadata": {},
   "source": [
    "### 2. 自己写代码实现最大公约数"
   ]
  },
  {
   "cell_type": "code",
   "execution_count": 23,
   "metadata": {},
   "outputs": [],
   "source": [
    "# 最大公约数思路：碾转相除法\n",
    "# 求得a,b两数之余数，若余数为0，则返回除数; 若余数不为零，则使余数与除数再求进一步余数\n",
    "\n",
    "def gcd_r(a,b): # 递归法 recursive\n",
    "    if a < b:\n",
    "        a,b = b,a\n",
    "    remainder = a % b\n",
    "    if remainder == 0:\n",
    "        return b\n",
    "    else:\n",
    "        return gcd_r(remainder,b)\n",
    "    \n",
    "    \n",
    "def gcd(a,b): # 非递归 Non-recursive\n",
    "    while b:\n",
    "        a,b = b, a%b\n",
    "    return a"
   ]
  },
  {
   "cell_type": "code",
   "execution_count": 26,
   "metadata": {},
   "outputs": [
    {
     "data": {
      "text/plain": [
       "15"
      ]
     },
     "execution_count": 26,
     "metadata": {},
     "output_type": "execute_result"
    }
   ],
   "source": [
    "gcd(15,30)"
   ]
  },
  {
   "cell_type": "markdown",
   "metadata": {},
   "source": [
    "# 解"
   ]
  },
  {
   "cell_type": "code",
   "execution_count": 5,
   "metadata": {},
   "outputs": [],
   "source": [
    "# 思路： n, n+1, n+2 ...m的最小公倍数，等于 (n,n+1)的最小公倍数和 n+2, ....m 的最小公倍数。 可用递归方式实现\n",
    "import math\n",
    "\n",
    "def LCM_helper(a,b):\n",
    "    return a*b//math.gcd(a,b)\n",
    "\n",
    "def solver(n):\n",
    "    m = n+2\n",
    "    lcm_1m = [1,1]\n",
    "    lcm_nm = [n+1]\n",
    "    # get lcm from 1 to m, initialization\n",
    "    for i in range(2, m+1):\n",
    "        lcm_1m.append(LCM_helper(lcm_1m[i-1],i))\n",
    "    for j in range(n+1, m+1):\n",
    "        lcm_nm.append(LCM_helper(lcm_nm[j-n-1],j))\n",
    "    while True:\n",
    "        if lcm_1m[-1] != lcm_nm[-1]:\n",
    "            m += 1\n",
    "            lcm_1m.append(LCM_helper(lcm_1m[-1],m))\n",
    "            lcm_nm.append(LCM_helper(lcm_nm[-1],m))\n",
    "        else:\n",
    "            return m\n",
    "            "
   ]
  },
  {
   "cell_type": "code",
   "execution_count": 6,
   "metadata": {},
   "outputs": [
    {
     "data": {
      "text/plain": [
       "6"
      ]
     },
     "execution_count": 6,
     "metadata": {},
     "output_type": "execute_result"
    }
   ],
   "source": [
    "solver(3)"
   ]
  },
  {
   "cell_type": "code",
   "execution_count": null,
   "metadata": {},
   "outputs": [],
   "source": []
  }
 ],
 "metadata": {
  "kernelspec": {
   "display_name": "Python 3",
   "language": "python",
   "name": "python3"
  },
  "language_info": {
   "codemirror_mode": {
    "name": "ipython",
    "version": 3
   },
   "file_extension": ".py",
   "mimetype": "text/x-python",
   "name": "python",
   "nbconvert_exporter": "python",
   "pygments_lexer": "ipython3",
   "version": "3.6.9"
  }
 },
 "nbformat": 4,
 "nbformat_minor": 2
}
