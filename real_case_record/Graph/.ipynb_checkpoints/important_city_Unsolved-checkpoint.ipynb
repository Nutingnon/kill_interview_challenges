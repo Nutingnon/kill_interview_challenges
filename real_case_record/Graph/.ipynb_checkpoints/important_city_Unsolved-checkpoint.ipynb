{
 "cells": [
  {
   "cell_type": "markdown",
   "metadata": {},
   "source": [
    "### 腾讯2019校招\n",
    "\n",
    "作者：herongwei\n",
    "链接：https://www.nowcoder.com/discuss/110802\n",
    "来源：牛客网\n",
    "\n",
    "题目描述\n",
    "\n",
    "小Q所在的王国有n个城市，城市之间有m条单向道路连接起来。\n",
    "\n",
    "对于一个城市V，从城市V出发可以到达的城市数量为X，从某个城市出发可以达到城市V的城市数量为Y，如果Y>X ，则城市V是一个重要城市（间接到达也算可以到达）。\n",
    "\n",
    "小Q希望你能帮他计算一下王国中一共有多少个重要城市。\n",
    "\n",
    "输入描述\n",
    "\n",
    "输入包括m+1行\n",
    "\n",
    "第一行包括两个数n和m（1<=n,m<=1000）,分别表示城市数和道路数\n",
    "\n",
    "接下来m行，每行两个数u,v(1<=u,v<=n)，表示一条从u到v的有向道路，输入可能包含重边和自环\n",
    "\n",
    "输出描述\n",
    "\n",
    "输出一个数，重要节点的个数。\n",
    "\n",
    "示例1\n",
    "\n",
    "sample input\n",
    "4 3\n",
    "2 1\n",
    "3 2\n",
    "4 3\n",
    "sample output\n",
    "2\n",
    "\n",
    "城市1,2是重要城市\n",
    "\n",
    "数据范围1e3,不是很大，考虑统计每个城市的入度和出度，就是一个简单的深度优先遍历了。"
   ]
  },
  {
   "cell_type": "code",
   "execution_count": null,
   "metadata": {},
   "outputs": [],
   "source": []
  }
 ],
 "metadata": {
  "kernelspec": {
   "display_name": "Python 3",
   "language": "python",
   "name": "python3"
  },
  "language_info": {
   "codemirror_mode": {
    "name": "ipython",
    "version": 3
   },
   "file_extension": ".py",
   "mimetype": "text/x-python",
   "name": "python",
   "nbconvert_exporter": "python",
   "pygments_lexer": "ipython3",
   "version": "3.6.9"
  }
 },
 "nbformat": 4,
 "nbformat_minor": 2
}
