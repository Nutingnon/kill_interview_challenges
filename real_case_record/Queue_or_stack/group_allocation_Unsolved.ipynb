{
 "cells": [
  {
   "cell_type": "markdown",
   "metadata": {},
   "source": [
    "猿辅导2020校招\n"
   ]
  },
  {
   "cell_type": "markdown",
   "metadata": {},
   "source": [
    "![question](../images/jsby.jpg)"
   ]
  },
  {
   "cell_type": "markdown",
   "metadata": {},
   "source": [
    "下面的样例：\n",
    "1\n",
    "1 2 2 2 3\n",
    "\n",
    "[2, 2, 2, 3]\n",
    "\n",
    "[2, 1, 1, 2]\n",
    "\n",
    "[1, 1, 0, 1]\n",
    "\n",
    "[0, 0, 0, 0]\n",
    "\n",
    "\n",
    "\n",
    "老哥们，知道问题在哪里里，是贪心陷阱\n",
    "\n",
    "比如 2 2 2 2 2，组队数是3\n",
    "\n",
    "第一轮（1 1 1）->1 1 1 2 2\n",
    "\n",
    "第二轮（1 1 1）->1 1 0 1 1\n",
    "\n",
    "第三轮（1 1   1）->0 0 0 0 1"
   ]
  },
  {
   "cell_type": "markdown",
   "metadata": {},
   "source": [
    "`java`{作者：justPassBy\n",
    "链接：https://www.nowcoder.com/discuss/232543?type=1\n",
    "来源：牛客网\n",
    "\n",
    "#include <stdio.h>\n",
    "#include <string.h>\n",
    "#include <vector>\n",
    "#include <iostream>\n",
    "#include <algorithm>\n",
    "#include <queue>\n",
    "using namespace std;\n",
    "const int N = 10000 + 10;\n",
    "int a[N];\n",
    " \n",
    "int main()\n",
    "{\n",
    "    int t;\n",
    "    int n;\n",
    " \n",
    "    cin >> t;\n",
    "    for(int k = 0; k < t; ++k)\n",
    "    {\n",
    "        priority_queue<int> q;\n",
    "        cin >> n;\n",
    "        for(int i = 0; i < n; ++i)\n",
    "        {\n",
    "            cin >> a[i];\n",
    "            if(a[i] == 0)\n",
    "                continue;\n",
    "            q.push(a[i]);\n",
    "        }\n",
    " \n",
    "        int ans = 0;\n",
    "        while(q.size() >= 3)\n",
    "        {\n",
    "            int a1 = q.top();\n",
    "            q.pop();\n",
    "            int a2 = q.top();\n",
    "            q.pop();\n",
    "            int a3 = q.top();\n",
    "            q.pop();\n",
    "            /* cout << a1 << \" \" << a2 << \" \" << a3 << endl; */\n",
    "                        //每次只能减1哦哦，重要!!!\n",
    "            int group = 1;\n",
    "            ans += group;\n",
    " \n",
    "            if(a1 - group > 0)\n",
    "                q.push(a1 - group);\n",
    "            if(a2 - group > 0)\n",
    "                q.push(a2 - group);\n",
    "            if(a3 - group > 0)\n",
    "                q.push(a3 - group);\n",
    "        }\n",
    "        cout << ans << endl;\n",
    " \n",
    "    }\n",
    "    return 0;\n",
    "}}"
   ]
  },
  {
   "cell_type": "code",
   "execution_count": null,
   "metadata": {},
   "outputs": [],
   "source": []
  }
 ],
 "metadata": {
  "kernelspec": {
   "display_name": "Python 3",
   "language": "python",
   "name": "python3"
  },
  "language_info": {
   "codemirror_mode": {
    "name": "ipython",
    "version": 3
   },
   "file_extension": ".py",
   "mimetype": "text/x-python",
   "name": "python",
   "nbconvert_exporter": "python",
   "pygments_lexer": "ipython3",
   "version": "3.6.9"
  }
 },
 "nbformat": 4,
 "nbformat_minor": 2
}
